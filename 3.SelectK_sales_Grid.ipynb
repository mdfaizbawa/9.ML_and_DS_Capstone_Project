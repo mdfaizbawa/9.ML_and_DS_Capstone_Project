{
 "cells": [
  {
   "cell_type": "code",
   "execution_count": 21,
   "id": "215f457b-dfcd-4bbd-b10b-9013577d24e6",
   "metadata": {},
   "outputs": [],
   "source": [
    "import pandas as pd\n",
    "import numpy as np\n",
    "from sklearn.impute import SimpleImputer\n",
    "import numpy as np\n",
    "from matplotlib import pyplot as plt\n",
    "import seaborn as sns\n",
    "import plotly.express as px\n",
    "from scipy.stats import norm\n",
    "from scipy.stats import ttest_ind\n",
    "from sklearn.model_selection import train_test_split \n",
    "from sklearn.preprocessing import StandardScaler\n",
    "from sklearn.feature_selection import SelectKBest\n",
    "from sklearn.feature_selection import chi2, f_regression\n",
    "import pickle\n",
    "from sklearn.metrics import r2_score\n",
    "from sklearn.linear_model import LinearRegression\n",
    "from sklearn.svm import SVR\n",
    "from sklearn.tree import DecisionTreeRegressor\n",
    "from sklearn.ensemble import RandomForestRegressor\n",
    "from sklearn.model_selection import GridSearchCV"
   ]
  },
  {
   "cell_type": "code",
   "execution_count": 22,
   "id": "73710030-d4b1-4d9c-8386-d000f14ca75a",
   "metadata": {},
   "outputs": [],
   "source": [
    "def selectkbest(indep_X,dep_Y,n):\n",
    "    test= SelectKBest(f_regression, k=n)\n",
    "    fit1=test.fit(indep_X,dep_Y)\n",
    "    selectK_features=fit1.transform(indep_X)\n",
    "    selected_col=indep_X.columns[fit1.get_support(indices=True)]\n",
    "    return selectK_features, selected_col\n",
    "\n",
    "def scalerX(indep_X):\n",
    "    sc = StandardScaler()\n",
    "    indep_X = sc.fit_transform(indep_X)\n",
    "    return indep_X\n",
    "\n",
    "def scalerY(dep_Y):\n",
    "    scy=StandardScaler()\n",
    "    dep_Y = scy.fit_transform(dep_Y)\n",
    "    return dep_Y\n",
    "\n",
    "def r2_prediction(grid,indep_X,dep_Y):\n",
    "    y_pred = grid.predict(indep_X)\n",
    "    r2=r2_score(dep_Y,y_pred)\n",
    "    return r2\n",
    "\n",
    "def Linear(indep_X,dep_Y):\n",
    "    param_grid={'fit_intercept':[True,False],'copy_X':[True,False],'positive':[False,True]}\n",
    "    grid=GridSearchCV(LinearRegression(), param_grid, refit=True, verbose=3,n_jobs=-1)\n",
    "    grid.fit(indep_X,dep_Y)\n",
    "    r2=r2_prediction(grid,indep_X,dep_Y)\n",
    "    return  r2\n",
    "\n",
    "def svm(indep_X,dep_Y):\n",
    "    param_grid={'kernel':['linear', 'poly', 'rbf', 'sigmoid'],'C':[10,100],'gamma':['auto','scale']}\n",
    "    grid=GridSearchCV(SVR(), param_grid, refit=True, verbose=3,n_jobs=-1)\n",
    "    grid.fit(indep_X,dep_Y)\n",
    "    r2=r2_prediction(grid,indep_X,dep_Y)\n",
    "    return  r2 \n",
    "\n",
    "def Decision(indep_X,dep_Y):\n",
    "    param_grid={'criterion':['squared_error', 'friedman_mse', 'absolute_error'],'splitter':['best', 'random'],'max_features':['sqrt', 'log2']}\n",
    "    grid=GridSearchCV(DecisionTreeRegressor(), param_grid, refit=True, verbose=3,n_jobs=-1)\n",
    "    grid.fit(indep_X,dep_Y)\n",
    "    r2=r2_prediction(grid,indep_X,dep_Y)\n",
    "    return  r2 \n",
    "\n",
    "def random(indep_X,dep_Y):\n",
    "    param_grid={'n_estimators':[10,50,100],'criterion':['squared_error', 'friedman_mse', 'absolute_error'],'max_features':['sqrt', 'log2']}\n",
    "    grid=GridSearchCV(RandomForestRegressor(), param_grid, refit=True, verbose=3,n_jobs=-1)\n",
    "    grid.fit(indep_X,dep_Y)\n",
    "    r2=r2_prediction(grid,indep_X,dep_Y)\n",
    "    return  r2  \n",
    "\n",
    "def selectk_regression(acclin,accsvm,accdes,accrf): \n",
    "    dataframe=pd.DataFrame(index=['f_regression'],columns=['Linear','SVM','Decision','Random'])\n",
    "    for number,idex in enumerate(dataframe.index):        \n",
    "        dataframe.loc[idex,'Linear']=acclin[number]       \n",
    "        dataframe.loc[idex,'SVM']=accsvm[number]\n",
    "        dataframe.loc[idex,'Decision']=accdes[number]\n",
    "        dataframe.loc[idex,'Random']=accrf[number]\n",
    "    return dataframe"
   ]
  },
  {
   "cell_type": "code",
   "execution_count": 23,
   "id": "a8e1001b-cecc-48a0-bb9c-2f926d5940b4",
   "metadata": {},
   "outputs": [],
   "source": [
    "dataset=pd.read_csv('sales_prep.csv',index_col=None)\n",
    "df=dataset\n",
    "\n",
    "dataset=pd.get_dummies(dataset,dtype=int,drop_first=True)\n",
    "\n",
    "indep_X=dataset.drop('Sales_Revenue',axis=1)\n",
    "dep_Y=dataset[['Sales_Revenue']]"
   ]
  },
  {
   "cell_type": "code",
   "execution_count": 24,
   "id": "00b5add0-5a3d-4c25-8bf7-db7599696c9b",
   "metadata": {},
   "outputs": [
    {
     "name": "stderr",
     "output_type": "stream",
     "text": [
      "C:\\Anaconda\\Lib\\site-packages\\sklearn\\utils\\validation.py:1300: DataConversionWarning: A column-vector y was passed when a 1d array was expected. Please change the shape of y to (n_samples, ), for example using ravel().\n",
      "  y = column_or_1d(y, warn=True)\n"
     ]
    },
    {
     "name": "stdout",
     "output_type": "stream",
     "text": [
      "Fitting 5 folds for each of 8 candidates, totalling 40 fits\n",
      "Fitting 5 folds for each of 16 candidates, totalling 80 fits\n"
     ]
    },
    {
     "name": "stderr",
     "output_type": "stream",
     "text": [
      "C:\\Anaconda\\Lib\\site-packages\\sklearn\\utils\\validation.py:1300: DataConversionWarning: A column-vector y was passed when a 1d array was expected. Please change the shape of y to (n_samples, ), for example using ravel().\n",
      "  y = column_or_1d(y, warn=True)\n"
     ]
    },
    {
     "name": "stdout",
     "output_type": "stream",
     "text": [
      "Fitting 5 folds for each of 12 candidates, totalling 60 fits\n",
      "Fitting 5 folds for each of 18 candidates, totalling 90 fits\n"
     ]
    },
    {
     "name": "stderr",
     "output_type": "stream",
     "text": [
      "C:\\Anaconda\\Lib\\site-packages\\sklearn\\base.py:1474: DataConversionWarning: A column-vector y was passed when a 1d array was expected. Please change the shape of y to (n_samples,), for example using ravel().\n",
      "  return fit_method(estimator, *args, **kwargs)\n"
     ]
    }
   ],
   "source": [
    "kbest,selected=selectkbest(indep_X,dep_Y,5)\n",
    "\n",
    "indep_X=scalerX(indep_X)\n",
    "dep_Y=scalerY(dep_Y)\n",
    "\n",
    "acclin=[]\n",
    "accsvm=[]\n",
    "accdes=[]\n",
    "accrf=[]\n",
    "\n",
    "r2_lin=Linear(indep_X,dep_Y)\n",
    "acclin.append(r2_lin)\n",
    "    \n",
    "r2_svm=svm(indep_X,dep_Y)\n",
    "accsvm.append(r2_svm)\n",
    "    \n",
    "r2_d=Decision(indep_X,dep_Y)\n",
    "accdes.append(r2_d)\n",
    "    \n",
    "r2_r=random(indep_X,dep_Y)\n",
    "accrf.append(r2_r)\n",
    "\n",
    "result=selectk_regression(acclin,accsvm,accdes,accrf)"
   ]
  },
  {
   "cell_type": "code",
   "execution_count": 5,
   "id": "4eef2828-23bb-40e9-a487-9baa821790b3",
   "metadata": {},
   "outputs": [
    {
     "data": {
      "text/html": [
       "<div>\n",
       "<style scoped>\n",
       "    .dataframe tbody tr th:only-of-type {\n",
       "        vertical-align: middle;\n",
       "    }\n",
       "\n",
       "    .dataframe tbody tr th {\n",
       "        vertical-align: top;\n",
       "    }\n",
       "\n",
       "    .dataframe thead th {\n",
       "        text-align: right;\n",
       "    }\n",
       "</style>\n",
       "<table border=\"1\" class=\"dataframe\">\n",
       "  <thead>\n",
       "    <tr style=\"text-align: right;\">\n",
       "      <th></th>\n",
       "      <th>Linear</th>\n",
       "      <th>SVM</th>\n",
       "      <th>Decision</th>\n",
       "      <th>Random</th>\n",
       "    </tr>\n",
       "  </thead>\n",
       "  <tbody>\n",
       "    <tr>\n",
       "      <th>f_regression</th>\n",
       "      <td>0.019711</td>\n",
       "      <td>0.990429</td>\n",
       "      <td>1.0</td>\n",
       "      <td>0.859198</td>\n",
       "    </tr>\n",
       "  </tbody>\n",
       "</table>\n",
       "</div>"
      ],
      "text/plain": [
       "                Linear       SVM Decision    Random\n",
       "f_regression  0.019711  0.990429      1.0  0.859198"
      ]
     },
     "execution_count": 5,
     "metadata": {},
     "output_type": "execute_result"
    }
   ],
   "source": [
    "#2\n",
    "result"
   ]
  },
  {
   "cell_type": "code",
   "execution_count": 11,
   "id": "e051bd32-8cc8-4afa-8a89-7b9efb66f872",
   "metadata": {},
   "outputs": [
    {
     "data": {
      "text/html": [
       "<div>\n",
       "<style scoped>\n",
       "    .dataframe tbody tr th:only-of-type {\n",
       "        vertical-align: middle;\n",
       "    }\n",
       "\n",
       "    .dataframe tbody tr th {\n",
       "        vertical-align: top;\n",
       "    }\n",
       "\n",
       "    .dataframe thead th {\n",
       "        text-align: right;\n",
       "    }\n",
       "</style>\n",
       "<table border=\"1\" class=\"dataframe\">\n",
       "  <thead>\n",
       "    <tr style=\"text-align: right;\">\n",
       "      <th></th>\n",
       "      <th>Linear</th>\n",
       "      <th>SVM</th>\n",
       "      <th>Decision</th>\n",
       "      <th>Random</th>\n",
       "    </tr>\n",
       "  </thead>\n",
       "  <tbody>\n",
       "    <tr>\n",
       "      <th>f_regression</th>\n",
       "      <td>0.019711</td>\n",
       "      <td>0.990429</td>\n",
       "      <td>1.0</td>\n",
       "      <td>0.84624</td>\n",
       "    </tr>\n",
       "  </tbody>\n",
       "</table>\n",
       "</div>"
      ],
      "text/plain": [
       "                Linear       SVM Decision   Random\n",
       "f_regression  0.019711  0.990429      1.0  0.84624"
      ]
     },
     "execution_count": 11,
     "metadata": {},
     "output_type": "execute_result"
    }
   ],
   "source": [
    "#3\n",
    "result"
   ]
  },
  {
   "cell_type": "code",
   "execution_count": 15,
   "id": "346c12b7-7f46-4b78-9b78-cbe288ad0555",
   "metadata": {},
   "outputs": [
    {
     "data": {
      "text/html": [
       "<div>\n",
       "<style scoped>\n",
       "    .dataframe tbody tr th:only-of-type {\n",
       "        vertical-align: middle;\n",
       "    }\n",
       "\n",
       "    .dataframe tbody tr th {\n",
       "        vertical-align: top;\n",
       "    }\n",
       "\n",
       "    .dataframe thead th {\n",
       "        text-align: right;\n",
       "    }\n",
       "</style>\n",
       "<table border=\"1\" class=\"dataframe\">\n",
       "  <thead>\n",
       "    <tr style=\"text-align: right;\">\n",
       "      <th></th>\n",
       "      <th>Linear</th>\n",
       "      <th>SVM</th>\n",
       "      <th>Decision</th>\n",
       "      <th>Random</th>\n",
       "    </tr>\n",
       "  </thead>\n",
       "  <tbody>\n",
       "    <tr>\n",
       "      <th>f_regression</th>\n",
       "      <td>0.019711</td>\n",
       "      <td>0.990429</td>\n",
       "      <td>1.0</td>\n",
       "      <td>0.851863</td>\n",
       "    </tr>\n",
       "  </tbody>\n",
       "</table>\n",
       "</div>"
      ],
      "text/plain": [
       "                Linear       SVM Decision    Random\n",
       "f_regression  0.019711  0.990429      1.0  0.851863"
      ]
     },
     "execution_count": 15,
     "metadata": {},
     "output_type": "execute_result"
    }
   ],
   "source": [
    "#4\n",
    "result"
   ]
  },
  {
   "cell_type": "code",
   "execution_count": 26,
   "id": "5fe7004d-b113-4e75-a1b0-99b582b3acb9",
   "metadata": {},
   "outputs": [
    {
     "data": {
      "text/html": [
       "<div>\n",
       "<style scoped>\n",
       "    .dataframe tbody tr th:only-of-type {\n",
       "        vertical-align: middle;\n",
       "    }\n",
       "\n",
       "    .dataframe tbody tr th {\n",
       "        vertical-align: top;\n",
       "    }\n",
       "\n",
       "    .dataframe thead th {\n",
       "        text-align: right;\n",
       "    }\n",
       "</style>\n",
       "<table border=\"1\" class=\"dataframe\">\n",
       "  <thead>\n",
       "    <tr style=\"text-align: right;\">\n",
       "      <th></th>\n",
       "      <th>Linear</th>\n",
       "      <th>SVM</th>\n",
       "      <th>Decision</th>\n",
       "      <th>Random</th>\n",
       "    </tr>\n",
       "  </thead>\n",
       "  <tbody>\n",
       "    <tr>\n",
       "      <th>f_regression</th>\n",
       "      <td>0.019711</td>\n",
       "      <td>0.990429</td>\n",
       "      <td>1.0</td>\n",
       "      <td>0.854351</td>\n",
       "    </tr>\n",
       "  </tbody>\n",
       "</table>\n",
       "</div>"
      ],
      "text/plain": [
       "                Linear       SVM Decision    Random\n",
       "f_regression  0.019711  0.990429      1.0  0.854351"
      ]
     },
     "execution_count": 26,
     "metadata": {},
     "output_type": "execute_result"
    }
   ],
   "source": [
    "#5\n",
    "result"
   ]
  },
  {
   "cell_type": "code",
   "execution_count": 25,
   "id": "3ef7a8d6-1655-49f1-b658-32b34fc67c2e",
   "metadata": {},
   "outputs": [
    {
     "data": {
      "text/plain": [
       "Index(['Holiday_Season', 'Customer_Rating', 'Average_Transaction_Value',\n",
       "       'Weekend_Sales_Percentage', 'Marketing_Channel_TV'],\n",
       "      dtype='object')"
      ]
     },
     "execution_count": 25,
     "metadata": {},
     "output_type": "execute_result"
    }
   ],
   "source": [
    "selected"
   ]
  },
  {
   "cell_type": "code",
   "execution_count": null,
   "id": "421f4330-ea90-4ca0-843b-07a9eb453970",
   "metadata": {},
   "outputs": [],
   "source": []
  }
 ],
 "metadata": {
  "kernelspec": {
   "display_name": "Python 3 (ipykernel)",
   "language": "python",
   "name": "python3"
  },
  "language_info": {
   "codemirror_mode": {
    "name": "ipython",
    "version": 3
   },
   "file_extension": ".py",
   "mimetype": "text/x-python",
   "name": "python",
   "nbconvert_exporter": "python",
   "pygments_lexer": "ipython3",
   "version": "3.12.4"
  }
 },
 "nbformat": 4,
 "nbformat_minor": 5
}
