{
 "cells": [
  {
   "cell_type": "code",
   "execution_count": 2,
   "id": "12a1ffa7-e46e-4fbe-878d-8410e24e8123",
   "metadata": {},
   "outputs": [],
   "source": [
    "import pandas as pd\n",
    "from sklearn.preprocessing import StandardScaler\n",
    "import pickle\n",
    "dataset=pd.read_csv('sales_prep.csv',index_col=None)\n",
    "dataset=pd.get_dummies(dataset,dtype=int, drop_first=True)\n",
    "indep_X=dataset[['Holiday_Season', 'Customer_Rating', 'Average_Transaction_Value','Weekend_Sales_Percentage', 'Marketing_Channel_TV']]\n",
    "dep_Y=dataset[['Sales_Revenue']]\n",
    "sd=StandardScaler()\n",
    "indep_X=sd.fit_transform(indep_X)\n",
    "sdy=StandardScaler()\n",
    "dep_Y=sdy.fit_transform(dep_Y)"
   ]
  },
  {
   "cell_type": "code",
   "execution_count": 3,
   "id": "4bfc25a8-adb9-4ab2-9261-eaf21f6a70b3",
   "metadata": {},
   "outputs": [
    {
     "name": "stdin",
     "output_type": "stream",
     "text": [
      "Holiday Season Yes 1 or No 0: 1\n",
      "Customer Rating:  3.908800318\n",
      "Average Transaction Value: 189.0082581\n",
      "Weekend_Sales_Percentage: 69.12508324\n",
      "Marketing Channel TV Yes 1 or No 0: 1\n"
     ]
    }
   ],
   "source": [
    "Holiday_Season=int(input('Holiday Season Yes 1 or No 0:'))\n",
    "Customer_Rating=float(input('Customer Rating:'))\n",
    "Average_Transaction_Value=float(input('Average Transaction Value:'))\n",
    "Weekend_Sales_Percentage=float(input('Weekend_Sales_Percentage:'))\n",
    "Marketing_Channel_TV=int(input('Marketing Channel TV Yes 1 or No 0:'))\n"
   ]
  },
  {
   "cell_type": "code",
   "execution_count": 4,
   "id": "317f24fe-51ae-482e-9f4f-7f017aa0c2e6",
   "metadata": {},
   "outputs": [
    {
     "name": "stderr",
     "output_type": "stream",
     "text": [
      "C:\\Anaconda\\Lib\\site-packages\\sklearn\\base.py:493: UserWarning: X does not have valid feature names, but StandardScaler was fitted with feature names\n",
      "  warnings.warn(\n"
     ]
    },
    {
     "data": {
      "text/plain": [
       "array([[170677.27571416]])"
      ]
     },
     "execution_count": 4,
     "metadata": {},
     "output_type": "execute_result"
    }
   ],
   "source": [
    "preinput=sd.transform([[Holiday_Season, Customer_Rating, Average_Transaction_Value, Weekend_Sales_Percentage, Marketing_Channel_TV]])\n",
    "loaded_model=pickle.load(open(\"final_model_sales.sav\",'rb'))\n",
    "prediction_std=loaded_model.predict(preinput)\n",
    "prediction=sdy.inverse_transform([prediction_std])\n",
    "prediction"
   ]
  },
  {
   "cell_type": "code",
   "execution_count": null,
   "id": "80bb7e20-5894-43f2-af80-cbbd168a43f6",
   "metadata": {},
   "outputs": [],
   "source": []
  }
 ],
 "metadata": {
  "kernelspec": {
   "display_name": "Python 3 (ipykernel)",
   "language": "python",
   "name": "python3"
  },
  "language_info": {
   "codemirror_mode": {
    "name": "ipython",
    "version": 3
   },
   "file_extension": ".py",
   "mimetype": "text/x-python",
   "name": "python",
   "nbconvert_exporter": "python",
   "pygments_lexer": "ipython3",
   "version": "3.12.4"
  }
 },
 "nbformat": 4,
 "nbformat_minor": 5
}
